{
  "nbformat": 4,
  "nbformat_minor": 0,
  "metadata": {
    "colab": {
      "provenance": [],
      "authorship_tag": "ABX9TyNFtYLMvodwCDjI/rlapQ8h",
      "include_colab_link": true
    },
    "kernelspec": {
      "name": "python3",
      "display_name": "Python 3"
    },
    "language_info": {
      "name": "python"
    }
  },
  "cells": [
    {
      "cell_type": "markdown",
      "metadata": {
        "id": "view-in-github",
        "colab_type": "text"
      },
      "source": [
        "<a href=\"https://colab.research.google.com/github/RehanShabbir16/Modern_computer_vision_with_pytorch/blob/main/KMNIST_in__pytorch.ipynb\" target=\"_parent\"><img src=\"https://colab.research.google.com/assets/colab-badge.svg\" alt=\"Open In Colab\"/></a>"
      ]
    },
    {
      "cell_type": "code",
      "execution_count": 1,
      "metadata": {
        "id": "J4ixYlE6Bu0U"
      },
      "outputs": [],
      "source": [
        "from torchvision import datasets, transforms\n",
        "from torch.utils.data import Dataset, DataLoader\n",
        "import torch.nn as nn\n",
        "import torch.optim as optim\n",
        "import torch\n",
        "import matplotlib.pyplot as plt\n",
        "import numpy as np\n",
        "import random"
      ]
    },
    {
      "cell_type": "code",
      "source": [
        "device= \"cuda\" if torch.cuda.is_available() else \"cpu\""
      ],
      "metadata": {
        "id": "gQ3xGsD3Ga4b"
      },
      "execution_count": 2,
      "outputs": []
    },
    {
      "cell_type": "code",
      "source": [
        "data=datasets.KMNIST(root='./data',download=True)\n"
      ],
      "metadata": {
        "colab": {
          "base_uri": "https://localhost:8080/"
        },
        "id": "epKrFRs0DLe3",
        "outputId": "3ddde9bf-03ab-4292-ca54-349f6c9f1b63"
      },
      "execution_count": 3,
      "outputs": [
        {
          "output_type": "stream",
          "name": "stdout",
          "text": [
            "Downloading http://codh.rois.ac.jp/kmnist/dataset/kmnist/train-images-idx3-ubyte.gz\n",
            "Downloading http://codh.rois.ac.jp/kmnist/dataset/kmnist/train-images-idx3-ubyte.gz to ./data/KMNIST/raw/train-images-idx3-ubyte.gz\n"
          ]
        },
        {
          "output_type": "stream",
          "name": "stderr",
          "text": [
            "100%|██████████| 18165135/18165135 [00:13<00:00, 1339753.12it/s]\n"
          ]
        },
        {
          "output_type": "stream",
          "name": "stdout",
          "text": [
            "Extracting ./data/KMNIST/raw/train-images-idx3-ubyte.gz to ./data/KMNIST/raw\n",
            "\n",
            "Downloading http://codh.rois.ac.jp/kmnist/dataset/kmnist/train-labels-idx1-ubyte.gz\n",
            "Downloading http://codh.rois.ac.jp/kmnist/dataset/kmnist/train-labels-idx1-ubyte.gz to ./data/KMNIST/raw/train-labels-idx1-ubyte.gz\n"
          ]
        },
        {
          "output_type": "stream",
          "name": "stderr",
          "text": [
            "100%|██████████| 29497/29497 [00:00<00:00, 185995.80it/s]\n"
          ]
        },
        {
          "output_type": "stream",
          "name": "stdout",
          "text": [
            "Extracting ./data/KMNIST/raw/train-labels-idx1-ubyte.gz to ./data/KMNIST/raw\n",
            "\n",
            "Downloading http://codh.rois.ac.jp/kmnist/dataset/kmnist/t10k-images-idx3-ubyte.gz\n",
            "Downloading http://codh.rois.ac.jp/kmnist/dataset/kmnist/t10k-images-idx3-ubyte.gz to ./data/KMNIST/raw/t10k-images-idx3-ubyte.gz\n"
          ]
        },
        {
          "output_type": "stream",
          "name": "stderr",
          "text": [
            "100%|██████████| 3041136/3041136 [00:04<00:00, 614137.69it/s]\n"
          ]
        },
        {
          "output_type": "stream",
          "name": "stdout",
          "text": [
            "Extracting ./data/KMNIST/raw/t10k-images-idx3-ubyte.gz to ./data/KMNIST/raw\n",
            "\n",
            "Downloading http://codh.rois.ac.jp/kmnist/dataset/kmnist/t10k-labels-idx1-ubyte.gz\n",
            "Downloading http://codh.rois.ac.jp/kmnist/dataset/kmnist/t10k-labels-idx1-ubyte.gz to ./data/KMNIST/raw/t10k-labels-idx1-ubyte.gz\n"
          ]
        },
        {
          "output_type": "stream",
          "name": "stderr",
          "text": [
            "100%|██████████| 5120/5120 [00:00<00:00, 15438415.87it/s]"
          ]
        },
        {
          "output_type": "stream",
          "name": "stdout",
          "text": [
            "Extracting ./data/KMNIST/raw/t10k-labels-idx1-ubyte.gz to ./data/KMNIST/raw\n",
            "\n"
          ]
        },
        {
          "output_type": "stream",
          "name": "stderr",
          "text": [
            "\n"
          ]
        }
      ]
    },
    {
      "cell_type": "code",
      "source": [
        "train_x=data.data\n",
        "train_y=data.targets"
      ],
      "metadata": {
        "id": "6Y0BxetqDQTZ"
      },
      "execution_count": 4,
      "outputs": []
    },
    {
      "cell_type": "code",
      "source": [
        "classes = [\n",
        "    \"お\",  # o\n",
        "    \"き\",  # ki\n",
        "    \"す\",  # su\n",
        "    \"つ\",  # tsu\n",
        "    \"な\",  # na\n",
        "    \"は\",  # ha\n",
        "    \"ま\",  # ma\n",
        "    \"や\",  # ya\n",
        "    \"れ\",  # re\n",
        "    \"を\"   # wo\n",
        "]"
      ],
      "metadata": {
        "id": "8rV4KvRNEd2u"
      },
      "execution_count": 5,
      "outputs": []
    },
    {
      "cell_type": "code",
      "source": [
        "train_y.unique()"
      ],
      "metadata": {
        "colab": {
          "base_uri": "https://localhost:8080/"
        },
        "id": "msJ4x8b_6CVP",
        "outputId": "9a64b5d3-56e4-4b8e-df2c-f586c77d0953"
      },
      "execution_count": 21,
      "outputs": [
        {
          "output_type": "execute_result",
          "data": {
            "text/plain": [
              "tensor([0, 1, 2, 3, 4, 5, 6, 7, 8, 9])"
            ]
          },
          "metadata": {},
          "execution_count": 21
        }
      ]
    },
    {
      "cell_type": "code",
      "source": [
        "print(classes)"
      ],
      "metadata": {
        "colab": {
          "base_uri": "https://localhost:8080/"
        },
        "id": "0aDMzC3mEud5",
        "outputId": "6c39afd1-1925-4bcf-8479-c67cb00869d7"
      },
      "execution_count": 6,
      "outputs": [
        {
          "output_type": "stream",
          "name": "stdout",
          "text": [
            "['お', 'き', 'す', 'つ', 'な', 'は', 'ま', 'や', 'れ', 'を']\n"
          ]
        }
      ]
    },
    {
      "cell_type": "code",
      "source": [
        "plt.figure(figsize=(10,10))\n",
        "plt.subplots(3,3)\n",
        "for i in range(9):\n",
        "  plt.subplot(3,3,i+1)\n",
        "  num=random.randint(0,len(train_x))\n",
        "  plt.imshow(train_x[num], cmap='gray')\n",
        "  plt.title(train_y[num])\n",
        "  plt.axis('off')"
      ],
      "metadata": {
        "colab": {
          "base_uri": "https://localhost:8080/",
          "height": 445
        },
        "id": "0nV1bRUtDxKo",
        "outputId": "bf66c3f7-5269-4a5b-dfb1-907479261d14"
      },
      "execution_count": 42,
      "outputs": [
        {
          "output_type": "display_data",
          "data": {
            "text/plain": [
              "<Figure size 1000x1000 with 0 Axes>"
            ]
          },
          "metadata": {}
        },
        {
          "output_type": "display_data",
          "data": {
            "text/plain": [
              "<Figure size 640x480 with 9 Axes>"
            ],
            "image/png": "[encoded data removed]"
          },
          "metadata": {}
        }
      ]
    },
    {
      "cell_type": "code",
      "source": [
        "train_x.shape"
      ],
      "metadata": {
        "colab": {
          "base_uri": "https://localhost:8080/"
        },
        "id": "RFvxUW8aFsgW",
        "outputId": "eb33ec65-34eb-4da9-9ab6-4de345f78624"
      },
      "execution_count": 43,
      "outputs": [
        {
          "output_type": "execute_result",
          "data": {
            "text/plain": [
              "torch.Size([60000, 28, 28])"
            ]
          },
          "metadata": {},
          "execution_count": 43
        }
      ]
    },
    {
      "cell_type": "code",
      "source": [
        "class KMNISTDataset(Dataset):\n",
        "  def __init__(self,x,y):\n",
        "    x=x/255\n",
        "    x=x.view(-1,28*28)\n",
        "    self.x=x\n",
        "    self.y=y\n",
        "  def __len__(self):\n",
        "    return len(self.x)\n",
        "  def __getitem__(self,idx):\n",
        "    return self.x[idx],self.y[idx]"
      ],
      "metadata": {
        "id": "VsRz89LZCBoD"
      },
      "execution_count": 44,
      "outputs": []
    },
    {
      "cell_type": "code",
      "source": [
        "def get_data():\n",
        "  data_load=KMNISTDataset(train_x,train_y)\n",
        "  train_loader=DataLoader(data_load,batch_size=32,shuffle=True)\n",
        "  return train_loader"
      ],
      "metadata": {
        "id": "iZmKY2lMCiEb"
      },
      "execution_count": 45,
      "outputs": []
    },
    {
      "cell_type": "code",
      "source": [
        "def get_model():\n",
        "  model=nn.Sequential(\n",
        "      nn.Linear(28*28,128),\n",
        "      nn.ReLU(),\n",
        "      nn.Linear(128,10),\n",
        "  ).to(device)\n",
        "  loss_fn=nn.CrossEntropyLoss()\n",
        "  optimizer=optim.Adam(model.parameters(),lr=0.001)\n",
        "  return model,loss_fn,optimizer"
      ],
      "metadata": {
        "id": "0c6WJ9v_Dltj"
      },
      "execution_count": 46,
      "outputs": []
    },
    {
      "cell_type": "code",
      "source": [
        "def train_batch(model,loss_fn,optimizer,x,y):\n",
        "  model.train()\n",
        "  pred=model(x)\n",
        "  loss=loss_fn(pred,y)\n",
        "  loss.backward()\n",
        "  optimizer.step()\n",
        "  optimizer.zero_grad()\n",
        "  return loss.item()"
      ],
      "metadata": {
        "id": "27WTRxoVGqYb"
      },
      "execution_count": 47,
      "outputs": []
    },
    {
      "cell_type": "code",
      "source": [
        "@torch.no_grad()\n",
        "def model_accuracy(x,y,model):\n",
        "  \"\"\"\n",
        "  args:\n",
        "    x:x\n",
        "    y:y\n",
        "    model: model\n",
        "  returns:\n",
        "  accuracy\n",
        "  \"\"\"\n",
        "  model.eval()\n",
        "  pred=model(x)\n",
        "  max_values, argmaxes=pred.max(-1)\n",
        "  is_correct=argmaxes==y\n",
        "  return is_correct.cpu().numpy().tolist()"
      ],
      "metadata": {
        "id": "IDM-LQQtHBW8"
      },
      "execution_count": 48,
      "outputs": []
    },
    {
      "cell_type": "code",
      "source": [
        "\n",
        "@torch.no_grad()\n",
        "def val_loss(x,y,model):\n",
        "  model.eval()\n",
        "  pred=model(x)\n",
        "  loss=loss_fn(pred,y)\n",
        "  return loss.item()"
      ],
      "metadata": {
        "id": "OjgUe0peHEZ-"
      },
      "execution_count": 49,
      "outputs": []
    },
    {
      "cell_type": "code",
      "source": [
        "trn_dl=get_data()\n",
        "model,loss_fn,optimizer=get_model()"
      ],
      "metadata": {
        "id": "rHcJ60HnHGmj"
      },
      "execution_count": 50,
      "outputs": []
    },
    {
      "cell_type": "code",
      "source": [],
      "metadata": {
        "id": "YDg3pj9pHPeM"
      },
      "execution_count": 50,
      "outputs": []
    },
    {
      "cell_type": "code",
      "source": [
        "losses,accuracies=[],[]\n",
        "for epoch in range(10):\n",
        "  print(epoch)\n",
        "  epoch_losses, epoch_acc=[],[]\n",
        "  for ix, batch in enumerate(iter(trn_dl)):\n",
        "    x,y=batch\n",
        "    batch_loss=train_batch(model,loss_fn,optimizer,x.to(device),y.to(device))\n",
        "    epoch_losses.append(batch_loss)\n",
        "  train_epoch_loss = np.array(epoch_losses).mean()\n",
        "\n",
        "  for ix, batch in enumerate(iter(trn_dl)):\n",
        "      x, y = batch\n",
        "      is_correct = model_accuracy(x, y, model)\n",
        "      epoch_acc.extend(is_correct)\n",
        "  train_epoch_accuracy = np.mean(epoch_acc)\n",
        "  losses.append(train_epoch_loss)\n",
        "  accuracies.append(train_epoch_accuracy)"
      ],
      "metadata": {
        "id": "BuHquMInIy7D",
        "colab": {
          "base_uri": "https://localhost:8080/"
        },
        "outputId": "f876931c-bbc7-4551-834f-11a378b7bde7"
      },
      "execution_count": 51,
      "outputs": [
        {
          "output_type": "stream",
          "name": "stdout",
          "text": [
            "0\n",
            "1\n",
            "2\n",
            "3\n",
            "4\n",
            "5\n",
            "6\n",
            "7\n",
            "8\n",
            "9\n"
          ]
        }
      ]
    },
    {
      "cell_type": "code",
      "source": [
        "losses"
      ],
      "metadata": {
        "colab": {
          "base_uri": "https://localhost:8080/"
        },
        "id": "ChHr64dL64U_",
        "outputId": "0be74a27-423e-4646-8d0d-92022ff993ee"
      },
      "execution_count": 54,
      "outputs": [
        {
          "output_type": "execute_result",
          "data": {
            "text/plain": [
              "[0.43913091856042547,\n",
              " 0.2119994565476974,\n",
              " 0.15198856870159508,\n",
              " 0.11491020411538581,\n",
              " 0.08993697135212521,\n",
              " 0.0703296852208674,\n",
              " 0.057208752748121816,\n",
              " 0.04646658497552077,\n",
              " 0.03638367421811757,\n",
              " 0.031146228126871088]"
            ]
          },
          "metadata": {},
          "execution_count": 54
        }
      ]
    },
    {
      "cell_type": "code",
      "source": [
        "plt.figure(figsize=(10,10))\n",
        "plt.plot(losses,label='loss')\n",
        "plt.plot(accuracies,label='accuracy')\n",
        "plt.legend()"
      ],
      "metadata": {
        "id": "RdQPP0ltMIdS",
        "colab": {
          "base_uri": "https://localhost:8080/",
          "height": 847
        },
        "outputId": "50f24a6e-70d9-45bf-87fa-72eb9fb3e46f"
      },
      "execution_count": 55,
      "outputs": [
        {
          "output_type": "execute_result",
          "data": {
            "text/plain": [
              "<matplotlib.legend.Legend at 0x7dbde9e72320>"
            ]
          },
          "metadata": {},
          "execution_count": 55
        },
        {
          "output_type": "display_data",
          "data": {
            "text/plain": [
              "<Figure size 1000x1000 with 1 Axes>"
            ],
            "image/png": "[encoded data removed]"
          },
          "metadata": {}
        }
      ]
    },
    {
      "cell_type": "code",
      "source": [],
      "metadata": {
        "id": "7mjikog361Nu"
      },
      "execution_count": null,
      "outputs": []
    }
  ]
}