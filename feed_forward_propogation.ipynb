{
  "cells": [
    {
      "cell_type": "markdown",
      "metadata": {
        "id": "view-in-github",
        "colab_type": "text"
      },
      "source": [
        "<a href=\"https://colab.research.google.com/github/RehanShabbir16/Modern_computer_vision_with_pytorch/blob/main/feed_forward_propogation.ipynb\" target=\"_parent\"><img src=\"https://colab.research.google.com/assets/colab-badge.svg\" alt=\"Open In Colab\"/></a>"
      ]
    },
    {
      "cell_type": "markdown",
      "metadata": {
        "id": "N3EMJ1EhOGTT"
      },
      "source": [
        "### Feed Forward Propogation"
      ]
    },
    {
      "cell_type": "code",
      "execution_count": null,
      "metadata": {
        "id": "gIyXGDMb_vF7"
      },
      "outputs": [],
      "source": [
        "import numpy as np\n",
        "import matplotlib.pyplot as plt\n",
        "from copy import deepcopy\n",
        "def feedForwardProp(inputs, outputs, weights):\n",
        "  \"\"\"\n",
        "    Feed Forward Propogation\n",
        "\n",
        "  Args:\n",
        "    input: input data\n",
        "    output: output data\n",
        "    weight: weight of the network\n",
        "\n",
        "  Return:\n",
        "    return: mse of the network\n",
        "  \"\"\"\n",
        "  pre_hidden = np.dot(inputs,weights[0])+ weights[1]\n",
        "  hidden = 1/(1+np.exp(-pre_hidden))\n",
        "  out = np.dot(hidden, weights[2]) + weights[3]\n",
        "  mean_squared_error = np.mean(np.square(out - outputs))\n",
        "  return mean_squared_error"
      ]
    },
    {
      "cell_type": "code",
      "execution_count": null,
      "metadata": {
        "id": "_XXjQHe9CBIE"
      },
      "outputs": [],
      "source": [
        "def tanh(x):\n",
        "  return (np.exp(x)-np.exp(-x))/(np.exp(x)+np.exp(-x))"
      ]
    },
    {
      "cell_type": "code",
      "execution_count": null,
      "metadata": {
        "colab": {
          "base_uri": "https://localhost:8080/"
        },
        "id": "ZBHPUqlfDHL1",
        "outputId": "c08dbda0-f5f2-4fa0-e4a3-4ede357cba86"
      },
      "outputs": [
        {
          "data": {
            "text/plain": [
              "array(0)"
            ]
          },
          "execution_count": 13,
          "metadata": {},
          "output_type": "execute_result"
        }
      ],
      "source": [
        "#Rectified Linear Unit\n",
        "def relu(x):\n",
        "  return np.where(x>0,x,0)\n",
        "\n",
        "relu(0)"
      ]
    },
    {
      "cell_type": "code",
      "execution_count": null,
      "metadata": {
        "id": "gUU-l4jKDUT7"
      },
      "outputs": [],
      "source": [
        "def softmax(x):\n",
        "  return np.exp(x)/np.sum(np.exp(x))"
      ]
    },
    {
      "cell_type": "code",
      "execution_count": null,
      "metadata": {
        "colab": {
          "base_uri": "https://localhost:8080/"
        },
        "id": "9PU05u0oEnEn",
        "outputId": "5cba15fa-b6e8-4664-eab2-a3c81ee0f940"
      },
      "outputs": [
        {
          "data": {
            "text/plain": [
              "array([0.09003057, 0.24472847, 0.66524096])"
            ]
          },
          "execution_count": 11,
          "metadata": {},
          "output_type": "execute_result"
        }
      ],
      "source": [
        "softmax([1,2,3])"
      ]
    },
    {
      "cell_type": "code",
      "execution_count": null,
      "metadata": {
        "id": "7cX9e16PEvK_"
      },
      "outputs": [],
      "source": [
        "# Mean Square Error\n",
        "def mse(p,y):\n",
        "  return np.mean(np.square(p-y))"
      ]
    },
    {
      "cell_type": "code",
      "execution_count": null,
      "metadata": {
        "id": "ZjLK8XTUGwZa"
      },
      "outputs": [],
      "source": [
        "# Mean Absolute Error\n",
        "def mae(p,y):\n",
        "  return np.mean(np.abs(p-y))"
      ]
    },
    {
      "cell_type": "code",
      "execution_count": null,
      "metadata": {
        "colab": {
          "base_uri": "https://localhost:8080/"
        },
        "id": "v7x-VhanGlUp",
        "outputId": "b93b41d3-eefa-4b5e-fc17-26a5981c17ec"
      },
      "outputs": [
        {
          "name": "stdout",
          "output_type": "stream",
          "text": [
            "mse :  2.6666666666666665\n",
            "mae :  1.3333333333333333\n"
          ]
        }
      ],
      "source": [
        "print(\"mse : \",mse(np.array([1,2,3]),np.array([3,2,1])))\n",
        "print(\"mae : \",mae(np.array([1,2,3]),np.array([3,2,1])))"
      ]
    },
    {
      "cell_type": "code",
      "execution_count": null,
      "metadata": {
        "id": "6PEoqTHmHN8n"
      },
      "outputs": [],
      "source": [
        "# Binary cross Entropy\n",
        "def bce(p,y):\n",
        "  return -np.mean(y*np.log(p) + (1-y)*np.log(1-p))"
      ]
    },
    {
      "cell_type": "code",
      "execution_count": null,
      "metadata": {
        "colab": {
          "base_uri": "https://localhost:8080/"
        },
        "id": "xg8GZsLnIkcU",
        "outputId": "21cf884f-1dc9-45fe-d4cc-69cfa4f816e5"
      },
      "outputs": [
        {
          "data": {
            "text/plain": [
              "0.8573992140459634"
            ]
          },
          "execution_count": 26,
          "metadata": {},
          "output_type": "execute_result"
        }
      ],
      "source": [
        "bce(np.array([0.9,0.8]),np.array([1,0]))"
      ]
    },
    {
      "cell_type": "code",
      "execution_count": null,
      "metadata": {
        "id": "LGasyyWEJYuN"
      },
      "outputs": [],
      "source": [
        "def categorical_cross_entropy(p, y):\n",
        " return -np.mean(np.log(p[np.arange(len(y)),y]))\n"
      ]
    },
    {
      "cell_type": "code",
      "execution_count": null,
      "metadata": {
        "colab": {
          "base_uri": "https://localhost:8080/"
        },
        "id": "pAWmocX9Jbbe",
        "outputId": "e4ba971b-65c9-4050-8a5a-e101ef02f710"
      },
      "outputs": [
        {
          "data": {
            "text/plain": [
              "1.4067053583800182"
            ]
          },
          "execution_count": 31,
          "metadata": {},
          "output_type": "execute_result"
        }
      ],
      "source": [
        "categorical_cross_entropy(np.array([[0.7,0.2,0.1],[0.3,0.5,0.2]]),np.array([1,0]))"
      ]
    },
    {
      "cell_type": "code",
      "execution_count": null,
      "metadata": {
        "id": "_LG5Tr0SJi9c"
      },
      "outputs": [],
      "source": []
    },
    {
      "cell_type": "markdown",
      "metadata": {
        "id": "GHPinjD0OQJH"
      },
      "source": [
        "## Back Propogation"
      ]
    },
    {
      "cell_type": "code",
      "execution_count": null,
      "metadata": {
        "id": "tShj2Z07OT41"
      },
      "outputs": [],
      "source": [
        "def update_weights(inputs, outputs, weights, lr):\n",
        "    original_weights = deepcopy(weights)\n",
        "    temp_weights = deepcopy(weights)\n",
        "    updated_weights = deepcopy(weights)\n",
        "    original_loss = feedForwardProp(inputs, outputs, original_weights)\n",
        "    for i, layer in enumerate(original_weights):\n",
        "        for index, weight in np.ndenumerate(layer):\n",
        "            temp_weights = deepcopy(weights)\n",
        "            temp_weights[i][index] += 0.0001\n",
        "            _loss_plus = feedForwardProp(inputs, outputs, temp_weights)\n",
        "            grad = (_loss_plus - original_loss)/(0.0001)\n",
        "            updated_weights[i][index] -= grad*lr\n",
        "    return updated_weights, original_loss"
      ]
    },
    {
      "cell_type": "code",
      "source": [
        "x = np.array([[1,1]])\n",
        "y = np.array([[0]])"
      ],
      "metadata": {
        "id": "9Ats6NGxlnql"
      },
      "execution_count": null,
      "outputs": []
    },
    {
      "cell_type": "code",
      "source": [
        "W = [\n",
        "    np.array([[-0.0053, 0.3793],\n",
        "              [-0.5820, -0.5204],\n",
        "              [-0.2723, 0.1896]], dtype=np.float32).T,\n",
        "    np.array([-0.0140, 0.5607, -0.0628], dtype=np.float32),\n",
        "    np.array([[ 0.1528, -0.1745, -0.1135]], dtype=np.float32).T,\n",
        "    np.array([-0.5516], dtype=np.float32)\n",
        "]"
      ],
      "metadata": {
        "id": "NtFyMuuslcY_"
      },
      "execution_count": null,
      "outputs": []
    },
    {
      "cell_type": "code",
      "source": [
        "losses = []\n",
        "for epoch in range(100):\n",
        "    W, loss = update_weights(x,y,W,0.01)\n",
        "    losses.append(loss)\n",
        "plt.plot(losses)\n",
        "plt.title('Loss over increasing number of epochs')"
      ],
      "metadata": {
        "colab": {
          "base_uri": "https://localhost:8080/",
          "height": 469
        },
        "id": "PTHV6Zqhle7r",
        "outputId": "1c9ee52a-b3b1-43f3-ac13-07f91a33717a"
      },
      "execution_count": null,
      "outputs": [
        {
          "output_type": "execute_result",
          "data": {
            "text/plain": [
              "Text(0.5, 1.0, 'Loss over increasing number of epochs')"
            ]
          },
          "metadata": {},
          "execution_count": 65
        },
        {
          "output_type": "display_data",
          "data": {
            "text/plain": [
              "<Figure size 640x480 with 1 Axes>"
            ],
            "image/png": "[encoded data removed]"
          },
          "metadata": {}
        }
      ]
    },
    {
      "cell_type": "code",
      "source": [],
      "metadata": {
        "id": "kowOLLPtlkV3"
      },
      "execution_count": null,
      "outputs": []
    }
  ],
  "metadata": {
    "colab": {
      "provenance": [],
      "authorship_tag": "ABX9TyMF9J/BJrSAh0PiFDr72mYn",
      "include_colab_link": true
    },
    "kernelspec": {
      "display_name": "Python 3",
      "name": "python3"
    },
    "language_info": {
      "name": "python"
    }
  },
  "nbformat": 4,
  "nbformat_minor": 0
}