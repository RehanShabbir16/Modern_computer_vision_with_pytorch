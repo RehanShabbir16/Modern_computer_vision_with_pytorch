{
  "nbformat": 4,
  "nbformat_minor": 0,
  "metadata": {
    "colab": {
      "provenance": [],
      "authorship_tag": "ABX9TyOwWMs90K0FVssqlj6FXzPu",
      "include_colab_link": true
    },
    "kernelspec": {
      "name": "python3",
      "display_name": "Python 3"
    },
    "language_info": {
      "name": "python"
    }
  },
  "cells": [
    {
      "cell_type": "markdown",
      "metadata": {
        "id": "view-in-github",
        "colab_type": "text"
      },
      "source": [
        "<a href=\"https://colab.research.google.com/github/RehanShabbir16/Modern_computer_vision_with_pytorch/blob/main/Chapter__2_Pytorch_fundamentals.ipynb\" target=\"_parent\"><img src=\"https://colab.research.google.com/assets/colab-badge.svg\" alt=\"Open In Colab\"/></a>"
      ]
    },
    {
      "cell_type": "code",
      "execution_count": 1,
      "metadata": {
        "id": "ku4zEXJBEOy9",
        "colab": {
          "base_uri": "https://localhost:8080/"
        },
        "outputId": "2476b400-80a0-4b1d-902f-f0b53bbbaf67"
      },
      "outputs": [
        {
          "output_type": "stream",
          "name": "stdout",
          "text": [
            "2.3.1+cu121\n"
          ]
        }
      ],
      "source": [
        "import torch\n",
        "print(torch.__version__)"
      ]
    },
    {
      "cell_type": "code",
      "source": [
        "a=torch.tensor([1,2,3])\n",
        "b=torch.tensor([4,5,6])\n",
        "print(a.shape)\n",
        "print(b.dtype)"
      ],
      "metadata": {
        "colab": {
          "base_uri": "https://localhost:8080/"
        },
        "id": "ONzGhG0tl_Bl",
        "outputId": "f4e1a478-224e-4fa3-d232-ee68b35751ea"
      },
      "execution_count": 2,
      "outputs": [
        {
          "output_type": "stream",
          "name": "stdout",
          "text": [
            "torch.Size([3])\n",
            "torch.int64\n"
          ]
        }
      ]
    },
    {
      "cell_type": "code",
      "source": [
        "torch.zeros((3,4))"
      ],
      "metadata": {
        "colab": {
          "base_uri": "https://localhost:8080/"
        },
        "id": "QBlXJFUqmtju",
        "outputId": "d0e62a28-5062-47be-88c7-0f2958651945"
      },
      "execution_count": 3,
      "outputs": [
        {
          "output_type": "execute_result",
          "data": {
            "text/plain": [
              "tensor([[0., 0., 0., 0.],\n",
              "        [0., 0., 0., 0.],\n",
              "        [0., 0., 0., 0.]])"
            ]
          },
          "metadata": {},
          "execution_count": 3
        }
      ]
    },
    {
      "cell_type": "code",
      "source": [
        "torch.randn((3,4))\n"
      ],
      "metadata": {
        "colab": {
          "base_uri": "https://localhost:8080/"
        },
        "id": "UVqQaGDknR4T",
        "outputId": "dd7c2fdc-758b-47e8-fe59-6c7a0ff14beb"
      },
      "execution_count": 4,
      "outputs": [
        {
          "output_type": "execute_result",
          "data": {
            "text/plain": [
              "tensor([[ 1.1138, -0.7774,  0.8376, -1.7775],\n",
              "        [-0.5444,  0.2233, -0.4661,  0.8897],\n",
              "        [ 1.0340,  0.7391,  1.1301,  0.9218]])"
            ]
          },
          "metadata": {},
          "execution_count": 4
        }
      ]
    },
    {
      "cell_type": "code",
      "source": [
        "torch.rand((3,4))\n"
      ],
      "metadata": {
        "colab": {
          "base_uri": "https://localhost:8080/"
        },
        "id": "CNlZ8Gjyna3B",
        "outputId": "b8abf615-6246-433a-8064-53e8851a3b77"
      },
      "execution_count": 5,
      "outputs": [
        {
          "output_type": "execute_result",
          "data": {
            "text/plain": [
              "tensor([[0.7710, 0.8474, 0.7042, 0.9469],\n",
              "        [0.7608, 0.7172, 0.8951, 0.3661],\n",
              "        [0.1452, 0.8982, 0.3998, 0.2358]])"
            ]
          },
          "metadata": {},
          "execution_count": 5
        }
      ]
    },
    {
      "cell_type": "code",
      "source": [
        "x = torch.randn(10,10,10)\n",
        "y = torch.cat([x,x], axis=0) # np.concatenate()\n",
        "print('Cat axis 0:', x.shape, y.shape)\n"
      ],
      "metadata": {
        "colab": {
          "base_uri": "https://localhost:8080/"
        },
        "id": "aoAIaH6oncQx",
        "outputId": "eb6f45dd-9144-4b3b-fbef-aa9713c247af"
      },
      "execution_count": 6,
      "outputs": [
        {
          "output_type": "stream",
          "name": "stdout",
          "text": [
            "Cat axis 0: torch.Size([10, 10, 10]) torch.Size([20, 10, 10])\n"
          ]
        }
      ]
    },
    {
      "cell_type": "code",
      "source": [
        "x=torch.tensor([1,2,3,4])\n",
        "y=torch.tensor([5,6,7,8])\n",
        "%timeit z = x@y"
      ],
      "metadata": {
        "colab": {
          "base_uri": "https://localhost:8080/"
        },
        "id": "COFVXvGkoL_c",
        "outputId": "d4674c84-38c0-421b-c6cf-fa090a495fbb"
      },
      "execution_count": 7,
      "outputs": [
        {
          "output_type": "stream",
          "name": "stdout",
          "text": [
            "10.2 µs ± 1.53 µs per loop (mean ± std. dev. of 7 runs, 100000 loops each)\n"
          ]
        }
      ]
    },
    {
      "cell_type": "code",
      "source": [
        "x=[[1,2],[3,4],[5,6],[7,8]]\n",
        "y=[[3],[7],[11],[15]]"
      ],
      "metadata": {
        "id": "WrluLHGLqXwG"
      },
      "execution_count": 8,
      "outputs": []
    },
    {
      "cell_type": "code",
      "source": [
        "X=torch.tensor(x).float()\n",
        "Y=torch.tensor(y).float()\n"
      ],
      "metadata": {
        "id": "Nr8AUeNHqpXI"
      },
      "execution_count": 9,
      "outputs": []
    },
    {
      "cell_type": "code",
      "source": [
        "device=\"cuda\" if torch.cuda.is_available() else \"cpu\"\n",
        "X=X.to(device)\n",
        "Y=Y.to(device)"
      ],
      "metadata": {
        "id": "5DBaCTAMrYQC"
      },
      "execution_count": 10,
      "outputs": []
    },
    {
      "cell_type": "code",
      "source": [
        "import torch.nn as nn"
      ],
      "metadata": {
        "id": "VeajqOFer1rH"
      },
      "execution_count": 11,
      "outputs": []
    },
    {
      "cell_type": "code",
      "source": [
        "class MyneuralNet(nn.Module):\n",
        "    def __init__(self):\n",
        "        super().__init__()\n",
        "        self.input_to_hidden_layer=nn.Linear(2,8)\n",
        "        self.hidden_layer_activation=nn.ReLU()\n",
        "        self.hidden_to_output_layer=nn.Linear(8,1)\n",
        "    def forward(self,x):\n",
        "        x=self.input_to_hidden_layer(x)\n",
        "        x=self.hidden_layer_activation(x)\n",
        "        x=self.hidden_to_output_layer(x)\n",
        "        return x"
      ],
      "metadata": {
        "id": "KDm355cCr4_m"
      },
      "execution_count": 12,
      "outputs": []
    },
    {
      "cell_type": "code",
      "source": [
        "mynet=MyneuralNet().to(device)"
      ],
      "metadata": {
        "id": "wdoVG_w6uQlE"
      },
      "execution_count": 13,
      "outputs": []
    },
    {
      "cell_type": "code",
      "source": [
        "mynet.parameters()"
      ],
      "metadata": {
        "colab": {
          "base_uri": "https://localhost:8080/"
        },
        "id": "-2taa8LduUbH",
        "outputId": "af6a92aa-8130-472a-e619-21fe33f18e2e"
      },
      "execution_count": 14,
      "outputs": [
        {
          "output_type": "execute_result",
          "data": {
            "text/plain": [
              "<generator object Module.parameters at 0x7adf2f7e4890>"
            ]
          },
          "metadata": {},
          "execution_count": 14
        }
      ]
    },
    {
      "cell_type": "code",
      "source": [
        "for par in mynet.parameters():\n",
        "    print(par)"
      ],
      "metadata": {
        "colab": {
          "base_uri": "https://localhost:8080/"
        },
        "id": "_8U8QvKXuex-",
        "outputId": "8d2e1629-a94a-4ce2-dfdd-aa0cc79ad70f"
      },
      "execution_count": 15,
      "outputs": [
        {
          "output_type": "stream",
          "name": "stdout",
          "text": [
            "Parameter containing:\n",
            "tensor([[ 0.2238, -0.2505],\n",
            "        [-0.5789, -0.6829],\n",
            "        [ 0.0787,  0.0560],\n",
            "        [ 0.2652,  0.6565],\n",
            "        [ 0.3622,  0.6604],\n",
            "        [-0.4773, -0.0713],\n",
            "        [-0.2540, -0.5832],\n",
            "        [ 0.4038,  0.4496]], requires_grad=True)\n",
            "Parameter containing:\n",
            "tensor([ 0.1402,  0.4183,  0.4467,  0.1144,  0.3644,  0.3404, -0.1541, -0.1285],\n",
            "       requires_grad=True)\n",
            "Parameter containing:\n",
            "tensor([[ 0.2667, -0.1715, -0.1769, -0.0907,  0.1246,  0.2213, -0.0166,  0.0227]],\n",
            "       requires_grad=True)\n",
            "Parameter containing:\n",
            "tensor([-0.1510], requires_grad=True)\n"
          ]
        }
      ]
    },
    {
      "cell_type": "code",
      "source": [
        "loss_fn=nn.MSELoss()\n"
      ],
      "metadata": {
        "id": "ztmb6RJUukrT"
      },
      "execution_count": 16,
      "outputs": []
    },
    {
      "cell_type": "code",
      "source": [
        "_Y=mynet(X)\n",
        "loss_value=loss_fn(_Y,Y)\n",
        "print(loss_value)"
      ],
      "metadata": {
        "colab": {
          "base_uri": "https://localhost:8080/"
        },
        "id": "RnvYVvfUvHlU",
        "outputId": "2e975754-3190-43ed-a9e6-82f22eb2688e"
      },
      "execution_count": 17,
      "outputs": [
        {
          "output_type": "stream",
          "name": "stdout",
          "text": [
            "tensor(100.5376, grad_fn=<MseLossBackward0>)\n"
          ]
        }
      ]
    },
    {
      "cell_type": "code",
      "source": [
        "from torch.optim import SGD"
      ],
      "metadata": {
        "id": "USC3anravN6R"
      },
      "execution_count": 18,
      "outputs": []
    },
    {
      "cell_type": "code",
      "source": [
        "opt=SGD(mynet.parameters(),lr=0.001)"
      ],
      "metadata": {
        "id": "Q3vmX4QBwLxu"
      },
      "execution_count": 19,
      "outputs": []
    },
    {
      "cell_type": "code",
      "source": [
        "loss_history=[]\n",
        "for epoch in range(50):\n",
        "  opt.zero_grad()\n",
        "  loss_value=loss_fn(mynet(X),Y)\n",
        "  loss_value.backward()\n",
        "  opt.step()\n",
        "  loss_history.append(loss_value.item())"
      ],
      "metadata": {
        "id": "VkcYpab8vkp2"
      },
      "execution_count": 20,
      "outputs": []
    },
    {
      "cell_type": "code",
      "source": [
        "import matplotlib.pyplot as plt\n",
        "%matplotlib inline\n",
        "plt.plot(loss_history)\n",
        "plt.title(\"Loss History\")\n",
        "plt.xlabel(\"Epoch\")\n",
        "plt.ylabel(\"Loss\")"
      ],
      "metadata": {
        "colab": {
          "base_uri": "https://localhost:8080/",
          "height": 489
        },
        "id": "ZM47n_juvV0w",
        "outputId": "5301977e-8d5c-4a78-8d5b-377eb5560ac3"
      },
      "execution_count": 21,
      "outputs": [
        {
          "output_type": "execute_result",
          "data": {
            "text/plain": [
              "Text(0, 0.5, 'Loss')"
            ]
          },
          "metadata": {},
          "execution_count": 21
        },
        {
          "output_type": "display_data",
          "data": {
            "text/plain": [
              "<Figure size 640x480 with 1 Axes>"
            ],
            "image/png": "[encoded data removed]"
          },
          "metadata": {}
        }
      ]
    },
    {
      "cell_type": "code",
      "source": [
        "from torch.utils.data import DataLoader, Dataset\n",
        "import torch.nn as nn\n",
        "import torch"
      ],
      "metadata": {
        "id": "a2E6xJGYwsJD"
      },
      "execution_count": 22,
      "outputs": []
    },
    {
      "cell_type": "code",
      "source": [
        "x=[[1,2],[3,4],[5,6],[7,8]]\n",
        "y=[[3],[7],[11],[15]]"
      ],
      "metadata": {
        "id": "p7mNZk9SGs1d"
      },
      "execution_count": 23,
      "outputs": []
    },
    {
      "cell_type": "code",
      "source": [
        "X=torch.tensor(x).float()\n",
        "Y=torch.tensor(y).float()"
      ],
      "metadata": {
        "id": "b-STuh-qHXcg"
      },
      "execution_count": 24,
      "outputs": []
    },
    {
      "cell_type": "code",
      "source": [
        "X=X.to(device)\n",
        "Y=Y.to(device)"
      ],
      "metadata": {
        "id": "QLJdLP53HZUD"
      },
      "execution_count": 25,
      "outputs": []
    },
    {
      "cell_type": "code",
      "source": [
        "class MyDataset(Dataset):\n",
        "  def __init__(self,x,y):\n",
        "    self.x=torch.tensor(x).float()\n",
        "    self.y=torch.tensor(y).float()\n",
        "  def __len__(self):\n",
        "    return len(self.x)\n",
        "  def __getitem__(self,ix):\n",
        "    return self.x[ix], self.y[ix]\n"
      ],
      "metadata": {
        "id": "kWEgMncVHbAp"
      },
      "execution_count": 26,
      "outputs": []
    },
    {
      "cell_type": "code",
      "source": [
        "ds=MyDataset(X,Y)"
      ],
      "metadata": {
        "colab": {
          "base_uri": "https://localhost:8080/"
        },
        "id": "C-s81O7RHn7u",
        "outputId": "8a4d3f3d-a076-45a7-fe40-317447e0d601"
      },
      "execution_count": 27,
      "outputs": [
        {
          "output_type": "stream",
          "name": "stderr",
          "text": [
            "<ipython-input-26-f70fd2f8d3b3>:3: UserWarning: To copy construct from a tensor, it is recommended to use sourceTensor.clone().detach() or sourceTensor.clone().detach().requires_grad_(True), rather than torch.tensor(sourceTensor).\n",
            "  self.x=torch.tensor(x).float()\n",
            "<ipython-input-26-f70fd2f8d3b3>:4: UserWarning: To copy construct from a tensor, it is recommended to use sourceTensor.clone().detach() or sourceTensor.clone().detach().requires_grad_(True), rather than torch.tensor(sourceTensor).\n",
            "  self.y=torch.tensor(y).float()\n"
          ]
        }
      ]
    },
    {
      "cell_type": "code",
      "source": [
        "dl=DataLoader(ds, batch_size=2, shuffle=True)"
      ],
      "metadata": {
        "id": "gYXgHiPBJdJB"
      },
      "execution_count": 28,
      "outputs": []
    },
    {
      "cell_type": "code",
      "source": [
        "for x,y in dl:\n",
        "  print(x,y)"
      ],
      "metadata": {
        "colab": {
          "base_uri": "https://localhost:8080/"
        },
        "id": "OqDanWFVJpq8",
        "outputId": "4523a2fc-e98c-4672-8122-b74455bdd981"
      },
      "execution_count": 29,
      "outputs": [
        {
          "output_type": "stream",
          "name": "stdout",
          "text": [
            "tensor([[3., 4.],\n",
            "        [7., 8.]]) tensor([[ 7.],\n",
            "        [15.]])\n",
            "tensor([[5., 6.],\n",
            "        [1., 2.]]) tensor([[11.],\n",
            "        [ 3.]])\n"
          ]
        }
      ]
    },
    {
      "cell_type": "code",
      "source": [
        "class MyNeuralnet(nn.Module):\n",
        "  def __init__(self):\n",
        "    super().__init__()\n",
        "    self.input_to_hidden_layer=nn.Linear(2,8)\n",
        "    self.hidden_to_activation=nn.ReLU()\n",
        "    self.hidden_to_output_layer=nn.Linear(8,1)\n",
        "  def forward(self,x):\n",
        "    x=self.input_to_hidden_layer(x)\n",
        "    x=self.hidden_to_activation(x)\n",
        "    x=self.hidden_to_output_layer(x)\n",
        "    return x"
      ],
      "metadata": {
        "id": "axBLD5AVJv4N"
      },
      "execution_count": 30,
      "outputs": []
    },
    {
      "cell_type": "code",
      "source": [
        "mynet=MyNeuralnet().to(device)\n",
        "my_loss=nn.MSELoss()"
      ],
      "metadata": {
        "id": "LAnsHPk6K2gn"
      },
      "execution_count": 31,
      "outputs": []
    },
    {
      "cell_type": "code",
      "source": [
        "from torch.optim import SGD\n",
        "opt=SGD(mynet.parameters(), lr=0.001)"
      ],
      "metadata": {
        "id": "Sk_6q8JcLibu"
      },
      "execution_count": 32,
      "outputs": []
    },
    {
      "cell_type": "code",
      "source": [
        "import time\n",
        "loss_history=[]\n",
        "start_time=time.time()\n",
        "for epoch in range(50):\n",
        "  for data in dl:\n",
        "    x,y=data\n",
        "    opt.zero_grad()\n",
        "    loss_value=my_loss(mynet(x),y)\n",
        "    loss_value.backward()\n",
        "    opt.step()\n",
        "    loss_history.append(loss_value.item())\n",
        "end_time=time.time()\n",
        "print(end_time-start_time)"
      ],
      "metadata": {
        "colab": {
          "base_uri": "https://localhost:8080/"
        },
        "id": "QUjqg6hKLsgO",
        "outputId": "3821290d-68ec-43b1-b6a5-40366d1113d3"
      },
      "execution_count": 33,
      "outputs": [
        {
          "output_type": "stream",
          "name": "stdout",
          "text": [
            "0.4987924098968506\n"
          ]
        }
      ]
    },
    {
      "cell_type": "code",
      "source": [
        "import matplotlib.pyplot as plt\n",
        "%matplotlib inline\n",
        "plt.plot(loss_history)\n",
        "plt.title(\"Loss History\")\n",
        "plt.xlabel(\"Epoch\")\n",
        "plt.ylabel(\"Loss\")"
      ],
      "metadata": {
        "colab": {
          "base_uri": "https://localhost:8080/",
          "height": 489
        },
        "id": "AQkN04hoNVc3",
        "outputId": "9a62a5c5-349a-42c6-a156-5aea7c3bd41b"
      },
      "execution_count": 34,
      "outputs": [
        {
          "output_type": "execute_result",
          "data": {
            "text/plain": [
              "Text(0, 0.5, 'Loss')"
            ]
          },
          "metadata": {},
          "execution_count": 34
        },
        {
          "output_type": "display_data",
          "data": {
            "text/plain": [
              "<Figure size 640x480 with 1 Axes>"
            ],
            "image/png": "[encoded data removed]"
          },
          "metadata": {}
        }
      ]
    },
    {
      "cell_type": "code",
      "source": [
        "val_x=[[10,11]]"
      ],
      "metadata": {
        "id": "-4Dl3HTwNw7t"
      },
      "execution_count": 35,
      "outputs": []
    },
    {
      "cell_type": "code",
      "source": [
        "val_X=torch.tensor(val_x).float().to(device)"
      ],
      "metadata": {
        "id": "6bM6UvsiSAAa"
      },
      "execution_count": 36,
      "outputs": []
    },
    {
      "cell_type": "code",
      "source": [
        "mynet(val_X)"
      ],
      "metadata": {
        "colab": {
          "base_uri": "https://localhost:8080/"
        },
        "id": "VOXu7GYlSCbU",
        "outputId": "3cf249c8-a0bc-4a2a-922d-34cae260d68f"
      },
      "execution_count": 37,
      "outputs": [
        {
          "output_type": "execute_result",
          "data": {
            "text/plain": [
              "tensor([[20.8618]], grad_fn=<AddmmBackward0>)"
            ]
          },
          "metadata": {},
          "execution_count": 37
        }
      ]
    },
    {
      "cell_type": "code",
      "source": [
        "import numpy as np\n",
        "def mse(_y,y):\n",
        "  \"\"\"\n",
        "  Mean square error function\n",
        "\n",
        "  args:\n",
        "  _y: predicted value\n",
        "  y: actual value\n",
        "\n",
        "  returns:\n",
        "  mean square error\n",
        "  \"\"\"\n",
        "  loss=(_y-y)**2\n",
        "  loss=loss.mean()\n",
        "  return loss"
      ],
      "metadata": {
        "id": "wo451txBSJ0i"
      },
      "execution_count": 38,
      "outputs": []
    },
    {
      "cell_type": "code",
      "source": [
        "mse(mynet(X),Y)"
      ],
      "metadata": {
        "colab": {
          "base_uri": "https://localhost:8080/"
        },
        "id": "JZt8xm_XTEB6",
        "outputId": "beee750b-50cd-4757-ab9d-a170914573de"
      },
      "execution_count": 39,
      "outputs": [
        {
          "output_type": "execute_result",
          "data": {
            "text/plain": [
              "tensor(0.0054, grad_fn=<MeanBackward0>)"
            ]
          },
          "metadata": {},
          "execution_count": 39
        }
      ]
    },
    {
      "cell_type": "code",
      "source": [
        "class Myneuralnet2(nn.Module):\n",
        "  def __init__(self):\n",
        "    super().__init__()\n",
        "    self.input_to_hidden_layer=nn.Linear(2,8)\n",
        "    self.hidden_to_activation=nn.ReLU()\n",
        "    self.hidden_to_output_layer=nn.Linear(8,1)\n",
        "  def forward(self,x):\n",
        "    hidden1=self.input_to_hidden_layer(x)\n",
        "    hidden2=self.hidden_to_activation(hidden1)\n",
        "    output=self.hidden_to_output_layer(hidden2)\n",
        "    return output, hidden2\n"
      ],
      "metadata": {
        "id": "FuUeNRh-ThKR"
      },
      "execution_count": 40,
      "outputs": []
    },
    {
      "cell_type": "code",
      "source": [
        "neuralnet=Myneuralnet2()"
      ],
      "metadata": {
        "id": "Ri_Jqz7ZyOPM"
      },
      "execution_count": 41,
      "outputs": []
    },
    {
      "cell_type": "code",
      "source": [
        "for par in neuralnet.parameters():\n",
        "  print(par)"
      ],
      "metadata": {
        "colab": {
          "base_uri": "https://localhost:8080/"
        },
        "id": "97UCxtR8yTg4",
        "outputId": "c7f8ff54-e011-42ec-c0d3-17fef6b2e5e5"
      },
      "execution_count": 42,
      "outputs": [
        {
          "output_type": "stream",
          "name": "stdout",
          "text": [
            "Parameter containing:\n",
            "tensor([[-0.4204, -0.1980],\n",
            "        [ 0.3743, -0.5595],\n",
            "        [ 0.4291,  0.1807],\n",
            "        [-0.1087,  0.5876],\n",
            "        [ 0.1841, -0.1487],\n",
            "        [-0.4495,  0.2467],\n",
            "        [ 0.5780,  0.6569],\n",
            "        [-0.1809, -0.6408]], requires_grad=True)\n",
            "Parameter containing:\n",
            "tensor([-0.6875, -0.1693, -0.0485,  0.4700, -0.4380,  0.5716, -0.1338, -0.2774],\n",
            "       requires_grad=True)\n",
            "Parameter containing:\n",
            "tensor([[-0.0435, -0.2118, -0.3198,  0.3500, -0.1127, -0.0186,  0.0643, -0.0725]],\n",
            "       requires_grad=True)\n",
            "Parameter containing:\n",
            "tensor([0.2682], requires_grad=True)\n"
          ]
        }
      ]
    },
    {
      "cell_type": "code",
      "source": [
        "loss_histroy=[]\n",
        "for epoch in range(50):\n",
        "  opt.zero_grad()\n",
        "  loss_value=mse(neuralnet(X)[0],Y)\n",
        "  loss_value.backward()\n",
        "  opt.step()\n",
        "  loss_histroy.append(loss_value.item())\n"
      ],
      "metadata": {
        "id": "sB5zhzsfyV3k"
      },
      "execution_count": 43,
      "outputs": []
    },
    {
      "cell_type": "code",
      "source": [
        "import matplotlib.pyplot as plt\n",
        "%matplotlib inline\n",
        "plt.plot(loss_histroy)\n",
        "plt.title(\"Loss History\")\n",
        "plt.xlabel(\"Epoch\")\n",
        "plt.ylabel(\"Loss\")"
      ],
      "metadata": {
        "colab": {
          "base_uri": "https://localhost:8080/",
          "height": 489
        },
        "id": "JNO1SJQ0y7Sa",
        "outputId": "0492a66b-d477-4b98-80fd-8ba7be1a5051"
      },
      "execution_count": 44,
      "outputs": [
        {
          "output_type": "execute_result",
          "data": {
            "text/plain": [
              "Text(0, 0.5, 'Loss')"
            ]
          },
          "metadata": {},
          "execution_count": 44
        },
        {
          "output_type": "display_data",
          "data": {
            "text/plain": [
              "<Figure size 640x480 with 1 Axes>"
            ],
            "image/png": "[encoded data removed]"
          },
          "metadata": {}
        }
      ]
    },
    {
      "cell_type": "code",
      "source": [],
      "metadata": {
        "id": "p4d4gqCsy9qd"
      },
      "execution_count": 44,
      "outputs": []
    },
    {
      "cell_type": "markdown",
      "source": [
        "## Neural Network using Sequential API"
      ],
      "metadata": {
        "id": "nGdxhJ2jzwK3"
      }
    },
    {
      "cell_type": "code",
      "source": [
        "x = [[1,2],[3,4],[5,6],[7,8]]\n",
        "y = [[3],[7],[11],[15]]\n"
      ],
      "metadata": {
        "id": "rgXz7wyrz1JK"
      },
      "execution_count": 45,
      "outputs": []
    },
    {
      "cell_type": "code",
      "source": [
        "import torch\n",
        "import torch.nn as nn\n",
        "import numpy as np\n",
        "from torch.utils.data import Dataset, DataLoader\n",
        "device = 'cuda' if torch.cuda.is_available() else 'cpu'"
      ],
      "metadata": {
        "id": "Qrol5m4v0E-x"
      },
      "execution_count": 46,
      "outputs": []
    },
    {
      "cell_type": "code",
      "source": [
        "class Mydataset(Dataset):\n",
        "  def __init__(self,x,y):\n",
        "    self.x=torch.tensor(x).float().to(device)\n",
        "    self.y=torch.tensor(y).float().to(device)\n",
        "  def __getitem__(self,ix):\n",
        "    return self.x[ix], self.y[ix]\n",
        "  def __len__(self):\n",
        "    return len(self.x)"
      ],
      "metadata": {
        "id": "oVHhXN_R0KY8"
      },
      "execution_count": 47,
      "outputs": []
    },
    {
      "cell_type": "code",
      "source": [
        "ds=Mydataset(x,y)\n",
        "dl=DataLoader(ds, batch_size=2, shuffle=True)"
      ],
      "metadata": {
        "id": "VEtu4yTE0aBP"
      },
      "execution_count": 48,
      "outputs": []
    },
    {
      "cell_type": "code",
      "source": [
        "model=nn.Sequential(\n",
        "    nn.Linear(2,8),\n",
        "    nn.ReLU(),\n",
        "    nn.Linear(8,1)\n",
        ")"
      ],
      "metadata": {
        "id": "xYnobG2S0gz4"
      },
      "execution_count": 49,
      "outputs": []
    },
    {
      "cell_type": "code",
      "source": [
        "!pip install torch_summary\n",
        "from torchsummary import summary\n"
      ],
      "metadata": {
        "colab": {
          "base_uri": "https://localhost:8080/"
        },
        "id": "ou5NxIao0vJJ",
        "outputId": "261c8e6e-45a3-457f-a3bf-8e59af59de51"
      },
      "execution_count": 50,
      "outputs": [
        {
          "output_type": "stream",
          "name": "stdout",
          "text": [
            "Collecting torch_summary\n",
            "  Downloading torch_summary-1.4.5-py3-none-any.whl.metadata (18 kB)\n",
            "Downloading torch_summary-1.4.5-py3-none-any.whl (16 kB)\n",
            "Installing collected packages: torch_summary\n",
            "Successfully installed torch_summary-1.4.5\n"
          ]
        }
      ]
    },
    {
      "cell_type": "code",
      "source": [
        "summary(model, torch.zeros(1,2))\n"
      ],
      "metadata": {
        "colab": {
          "base_uri": "https://localhost:8080/"
        },
        "id": "37XLQTdm1Bu_",
        "outputId": "30c06e34-bb9c-477a-9d0d-691177195d11"
      },
      "execution_count": 51,
      "outputs": [
        {
          "output_type": "stream",
          "name": "stdout",
          "text": [
            "==========================================================================================\n",
            "Layer (type:depth-idx)                   Output Shape              Param #\n",
            "==========================================================================================\n",
            "├─Linear: 1-1                            [-1, 8]                   24\n",
            "├─ReLU: 1-2                              [-1, 8]                   --\n",
            "├─Linear: 1-3                            [-1, 1]                   9\n",
            "==========================================================================================\n",
            "Total params: 33\n",
            "Trainable params: 33\n",
            "Non-trainable params: 0\n",
            "Total mult-adds (M): 0.00\n",
            "==========================================================================================\n",
            "Input size (MB): 0.00\n",
            "Forward/backward pass size (MB): 0.00\n",
            "Params size (MB): 0.00\n",
            "Estimated Total Size (MB): 0.00\n",
            "==========================================================================================\n"
          ]
        },
        {
          "output_type": "execute_result",
          "data": {
            "text/plain": [
              "==========================================================================================\n",
              "Layer (type:depth-idx)                   Output Shape              Param #\n",
              "==========================================================================================\n",
              "├─Linear: 1-1                            [-1, 8]                   24\n",
              "├─ReLU: 1-2                              [-1, 8]                   --\n",
              "├─Linear: 1-3                            [-1, 1]                   9\n",
              "==========================================================================================\n",
              "Total params: 33\n",
              "Trainable params: 33\n",
              "Non-trainable params: 0\n",
              "Total mult-adds (M): 0.00\n",
              "==========================================================================================\n",
              "Input size (MB): 0.00\n",
              "Forward/backward pass size (MB): 0.00\n",
              "Params size (MB): 0.00\n",
              "Estimated Total Size (MB): 0.00\n",
              "=========================================================================================="
            ]
          },
          "metadata": {},
          "execution_count": 51
        }
      ]
    },
    {
      "cell_type": "code",
      "source": [
        "from torch.optim import SGD\n",
        "import time"
      ],
      "metadata": {
        "id": "JbyGmySZ2X8z"
      },
      "execution_count": 52,
      "outputs": []
    },
    {
      "cell_type": "code",
      "source": [
        "loss_fn=nn.MSELoss()\n",
        "opt=SGD(model.parameters(),lr=0.001)\n",
        "loss_hist=[]\n",
        "start_time=time.time()\n",
        "for epoch in range(50):\n",
        "  for data in dl:\n",
        "    x,y=data\n",
        "    opt.zero_grad()\n",
        "    loss_value=loss_fn(model(x),y)\n",
        "    loss_value.backward()\n",
        "    opt.step()\n",
        "    loss_hist.append(loss_value.item())\n",
        "end_time=time.time()\n",
        "print(end_time-start_time)"
      ],
      "metadata": {
        "colab": {
          "base_uri": "https://localhost:8080/"
        },
        "id": "InyHhaqU21Fg",
        "outputId": "85675711-8a32-4925-df1b-70df4d750e66"
      },
      "execution_count": 53,
      "outputs": [
        {
          "output_type": "stream",
          "name": "stdout",
          "text": [
            "0.1378345489501953\n"
          ]
        }
      ]
    },
    {
      "cell_type": "code",
      "source": [
        "import matplotlib.pyplot as plt\n",
        "%matplotlib inline\n",
        "plt.plot(loss_hist)\n",
        "plt.title(\"Loss History\")\n",
        "plt.xlabel(\"Epoch\")\n",
        "plt.ylabel(\"Loss\")"
      ],
      "metadata": {
        "id": "ar4WBX5g3bTj",
        "outputId": "f0fd6687-b6d4-4f18-adba-a435aab770dd",
        "colab": {
          "base_uri": "https://localhost:8080/",
          "height": 489
        }
      },
      "execution_count": 54,
      "outputs": [
        {
          "output_type": "execute_result",
          "data": {
            "text/plain": [
              "Text(0, 0.5, 'Loss')"
            ]
          },
          "metadata": {},
          "execution_count": 54
        },
        {
          "output_type": "display_data",
          "data": {
            "text/plain": [
              "<Figure size 640x480 with 1 Axes>"
            ],
            "image/png": "[encoded data removed]"
          },
          "metadata": {}
        }
      ]
    },
    {
      "cell_type": "code",
      "source": [
        "torch.save(model.state_dict(),\"model1.pth\")"
      ],
      "metadata": {
        "id": "XHmWWnUl3gK0"
      },
      "execution_count": 55,
      "outputs": []
    },
    {
      "cell_type": "code",
      "source": [
        "state_dic=torch.load(\"model1.pth\")"
      ],
      "metadata": {
        "id": "B5shQZ4Y0mvv"
      },
      "execution_count": 56,
      "outputs": []
    },
    {
      "cell_type": "code",
      "source": [
        "model.load_state_dict(state_dic)"
      ],
      "metadata": {
        "colab": {
          "base_uri": "https://localhost:8080/"
        },
        "id": "WoW-6PHP0xcS",
        "outputId": "1011f39d-4524-4c1f-e9b0-2274159fcf1b"
      },
      "execution_count": 57,
      "outputs": [
        {
          "output_type": "execute_result",
          "data": {
            "text/plain": [
              "<All keys matched successfully>"
            ]
          },
          "metadata": {},
          "execution_count": 57
        }
      ]
    },
    {
      "cell_type": "code",
      "source": [],
      "metadata": {
        "id": "lLoxpb2l02jS"
      },
      "execution_count": null,
      "outputs": []
    }
  ]
}